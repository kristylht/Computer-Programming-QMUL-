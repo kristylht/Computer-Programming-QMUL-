{
 "cells": [
  {
   "cell_type": "markdown",
   "metadata": {},
   "source": [
    "[DIY Covid-19 Dashboard Kit](https://github.com/fsmeraldi/diy-covid19dash) (C) Fabrizio Smeraldi, 2020 ([f.smeraldi@qmul.ac.uk](mailto:f.smeraldi@qmul.ac.uk) - [web](http://www.eecs.qmul.ac.uk/~fabri/)). All rights reserved."
   ]
  },
  {
   "cell_type": "code",
   "execution_count": 14,
   "metadata": {},
   "outputs": [],
   "source": [
    "from IPython.display import clear_output\n",
    "import ipywidgets as wdg\n",
    "import pandas as pd\n",
    "import numpy as np\n",
    "import matplotlib.pyplot as plt\n",
    "import json\n",
    "from uk_covid19 import Cov19API\n"
   ]
  },
  {
   "cell_type": "code",
   "execution_count": 15,
   "metadata": {},
   "outputs": [],
   "source": [
    "%matplotlib inline\n",
    "# make figures larger\n",
    "plt.rcParams['figure.dpi'] = 100"
   ]
  },
  {
   "cell_type": "code",
   "execution_count": 16,
   "metadata": {
    "scrolled": true
   },
   "outputs": [
    {
     "name": "stdout",
     "output_type": "stream",
     "text": [
      "Requirement already satisfied: uk-covid19 in /Users/kristy/opt/anaconda3/lib/python3.9/site-packages (1.2.2)\n",
      "Requirement already satisfied: certifi in /Users/kristy/opt/anaconda3/lib/python3.9/site-packages (from uk-covid19) (2021.10.8)\n",
      "Requirement already satisfied: requests in /Users/kristy/opt/anaconda3/lib/python3.9/site-packages (from uk-covid19) (2.27.1)\n",
      "Requirement already satisfied: charset-normalizer~=2.0.0 in /Users/kristy/opt/anaconda3/lib/python3.9/site-packages (from requests->uk-covid19) (2.0.4)\n",
      "Requirement already satisfied: idna<4,>=2.5 in /Users/kristy/opt/anaconda3/lib/python3.9/site-packages (from requests->uk-covid19) (3.3)\n",
      "Requirement already satisfied: urllib3<1.27,>=1.21.1 in /Users/kristy/opt/anaconda3/lib/python3.9/site-packages (from requests->uk-covid19) (1.26.9)\n",
      "Note: you may need to restart the kernel to use updated packages.\n"
     ]
    }
   ],
   "source": [
    " pip install uk-covid19\n"
   ]
  },
  {
   "cell_type": "code",
   "execution_count": 17,
   "metadata": {},
   "outputs": [],
   "source": [
    "England_filters = [\n",
    "    'areaType=nation',\n",
    "    'areaName=England'\n",
    "]\n",
    "\n",
    "England_structure = {\n",
    "    \"date\": \"date\",\n",
    "    \"cases\": \"newCasesBySpecimenDate\",\n",
    "    \"new_first_episodes\": \"newFirstEpisodesBySpecimenDate\",\n",
    "    \"new_reinfection\": \"newReinfectionsBySpecimenDate\"    \n",
    "}\n",
    "\n",
    "graph = Cov19API(filters = England_filters, structure = England_structure)"
   ]
  },
  {
   "cell_type": "code",
   "execution_count": 18,
   "metadata": {},
   "outputs": [],
   "source": [
    "analysis = graph.get_json()\n",
    "with open(\"graph.json\", \"wt\") as file:\n",
    "    json.dump(analysis, file)"
   ]
  },
  {
   "cell_type": "code",
   "execution_count": 19,
   "metadata": {},
   "outputs": [],
   "source": [
    "def wrangle_data(rawdata, columns_name):\n",
    "    \"\"\" Parameters: rawdata - data from json file or API call. Returns a dataframe.\n",
    "    Edit to include the code that wrangles the data, creates the dataframe and fills it in. \"\"\"\n",
    "    \n",
    "    with open(rawdata, \"rt\") as INFILE:\n",
    "        input_data = json.load(INFILE)\n",
    "    \n",
    "    global datalist \n",
    "    datalist = input_data['data']\n",
    "    \n",
    "    date_index() \n",
    "    global x_index\n",
    "    x_index = pd.date_range(startdate, enddate) \n",
    "    \n",
    "    global dataframe\n",
    "    dataframe = pd.DataFrame(index = x_index, columns = columns_name)\n",
    "    \n",
    "    for i in datalist: \n",
    "        date = parse_date(i['date'])\n",
    "        for x in columns_name:\n",
    "            if pd.isna(dataframe.loc[date, x]): \n",
    "                value = float(i[x]) if i[x]!=None else 0.0\n",
    "                dataframe.loc[date, x] = value    \n",
    "                \n",
    "    dataframe.fillna(0.0, inplace=True)\n",
    "\n",
    "    return dataframe\n",
    "\n",
    "def parse_date(datestring):\n",
    "    return pd.to_datetime(datestring, format=\"%Y-%m-%d\")\n",
    "\n",
    "def date_index():      \n",
    "    dates = [i['date'] for i in datalist]\n",
    "    dates.sort() \n",
    "    global startdate\n",
    "    global enddate\n",
    "    startdate = parse_date(dates[0])\n",
    "    enddate = parse_date(dates[-1])"
   ]
  },
  {
   "cell_type": "code",
   "execution_count": 20,
   "metadata": {},
   "outputs": [],
   "source": [
    "graph_df = wrangle_data(\"graph.json\", ['cases', 'new_first_episodes', 'new_reinfection']) "
   ]
  },
  {
   "cell_type": "code",
   "execution_count": 21,
   "metadata": {},
   "outputs": [],
   "source": [
    "def access_api():\n",
    "    return {} "
   ]
  },
  {
   "cell_type": "code",
   "execution_count": 22,
   "metadata": {},
   "outputs": [],
   "source": [
    "def api_button_callback(button):\n",
    "    apidata=access_api() \n",
    "    \n",
    "    global dataframe\n",
    "    dataframe = wrangle_data(\"graph.json\", ['cases', 'new_first_episodes', 'new_reinfection'])\n",
    "\n",
    "    refresh_graph()\n",
    "    apibutton.icon = \"check\"\n",
    "    apibutton.disabled = True \n",
    "    "
   ]
  },
  {
   "cell_type": "code",
   "execution_count": 23,
   "metadata": {},
   "outputs": [],
   "source": [
    "apibutton = wdg.Button(\n",
    "    description = 'Refresh',\n",
    "    disabled = False,\n",
    "    button_style = 'info', \n",
    "    icon = 'download'\n",
    ")\n",
    "\n",
    "apibutton.on_click(api_button_callback)\n"
   ]
  },
  {
   "cell_type": "code",
   "execution_count": 24,
   "metadata": {},
   "outputs": [],
   "source": [
    "def refresh_graph(): \n",
    "    current = scale.value\n",
    "    if current == scale.options[0]:\n",
    "        other = scale.options[1]\n",
    "    else:\n",
    "        other = scale.options[0]\n",
    "    scale.value=other \n",
    "    scale.value=current    \n",
    "\n",
    "def plot_graph(gscale, gcols):\n",
    "    if gscale == 'linear':\n",
    "        logscale = False\n",
    "    else:\n",
    "        logscale = True\n",
    "        \n",
    "    ncols = len(gcols)\n",
    "\n",
    "    if ncols > 0:\n",
    "        dataframe[list(gcols)].plot(logy=logscale, ylabel = 'number of', xlabel = 'time')\n",
    "        plt.show()   \n",
    "    else:\n",
    "        print(\"Click to select data for graph\")\n",
    "        print(\"CTRL-Click to select more than one category\")"
   ]
  },
  {
   "cell_type": "code",
   "execution_count": 25,
   "metadata": {},
   "outputs": [],
   "source": [
    "series = wdg.SelectMultiple(\n",
    "    options = ['cases', 'new_first_episodes', 'new_reinfection'],\n",
    "    value = ['cases', 'new_first_episodes', 'new_reinfection'],\n",
    "    rows = 3,\n",
    "    description = 'Number of:',\n",
    "    disabled = False\n",
    ")\n",
    "\n",
    "\n",
    "scale = wdg.RadioButtons(\n",
    "    options = ['linear', 'log'],\n",
    "    value = 'linear',\n",
    "    description = 'Scale:',\n",
    "    disabled = False)\n",
    "\n",
    "control = wdg.HBox([series, scale])\n",
    "\n",
    "    "
   ]
  },
  {
   "cell_type": "markdown",
   "metadata": {},
   "source": [
    "## Graph of Cases, First Episode and New Infection of Covid in England\n",
    "The following graph shows the number of cases, first episode and new infection of covid in England. \n",
    "\n",
    "1. Choose from the selection box for what statistics to show\n",
    "2. Choose the scale for y-axis\n",
    "3. Click the 'Refresh' box to get the latest data (optional) "
   ]
  },
  {
   "cell_type": "code",
   "execution_count": 26,
   "metadata": {},
   "outputs": [
    {
     "data": {
      "application/vnd.jupyter.widget-view+json": {
       "model_id": "02f0fc1982cc4104bedfccf23b197894",
       "version_major": 2,
       "version_minor": 0
      },
      "text/plain": [
       "HBox(children=(SelectMultiple(description='Number of:', index=(0, 1, 2), options=('cases', 'new_first_episodes…"
      ]
     },
     "metadata": {},
     "output_type": "display_data"
    },
    {
     "data": {
      "application/vnd.jupyter.widget-view+json": {
       "model_id": "bcb34f86fe054562a830a0aeb55b942e",
       "version_major": 2,
       "version_minor": 0
      },
      "text/plain": [
       "Button(button_style='info', description='Refresh', icon='download', style=ButtonStyle())"
      ]
     },
     "metadata": {},
     "output_type": "display_data"
    },
    {
     "data": {
      "application/vnd.jupyter.widget-view+json": {
       "model_id": "0945cbc4617e423ca64ec459aae88cea",
       "version_major": 2,
       "version_minor": 0
      },
      "text/plain": [
       "Output()"
      ]
     },
     "metadata": {},
     "output_type": "display_data"
    }
   ],
   "source": [
    "graph = wdg.interactive_output(plot_graph, {'gscale':scale, 'gcols': series})\n",
    "display(control, apibutton, graph)"
   ]
  },
  {
   "cell_type": "markdown",
   "metadata": {},
   "source": [
    "Data from Public Health England, UK Government "
   ]
  }
 ],
 "metadata": {
  "kernelspec": {
   "display_name": "Python 3 (ipykernel)",
   "language": "python",
   "name": "python3"
  },
  "language_info": {
   "codemirror_mode": {
    "name": "ipython",
    "version": 3
   },
   "file_extension": ".py",
   "mimetype": "text/x-python",
   "name": "python",
   "nbconvert_exporter": "python",
   "pygments_lexer": "ipython3",
   "version": "3.9.12"
  }
 },
 "nbformat": 4,
 "nbformat_minor": 4
}
