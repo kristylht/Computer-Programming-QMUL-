{
 "cells": [
  {
   "cell_type": "markdown",
   "metadata": {},
   "source": [
    "[DIY Covid-19 Dashboard Kit](https://github.com/fsmeraldi/diy-covid19dash) (C) Fabrizio Smeraldi, 2020 ([f.smeraldi@qmul.ac.uk](mailto:f.smeraldi@qmul.ac.uk) - [web](http://www.eecs.qmul.ac.uk/~fabri/)). All rights reserved."
   ]
  },
  {
   "cell_type": "markdown",
   "metadata": {},
   "source": [
    "# DIY Covid-19 Dashboard"
   ]
  },
  {
   "cell_type": "markdown",
   "metadata": {},
   "source": [
    "This is a template for your DIY Covid Dashboard, to which you can add the code you developed in the previous notebooks. The dashboard will be displayed using [voila](https://voila.readthedocs.io/en/stable/index.html), a Python dashboarding tool that converts notebooks to standalone dashboards. Contrary to the other libraries we have seen, the ```voila``` package must be installed using *pip* or *conda* but it does not need to be imported - it rather acts at the level of the notebook server. Package ```voila``` is already installed on the EECS JupyterHub as well as in the binder - to install it locally, follow the [instructions](https://voila.readthedocs.io/en/stable/install.html) online.\n",
    "\n",
    "Broadly speaking, Voila acts by **running all the cells in your notebook** when the dashboard is first loaded; it then hides all code cells and displays all markdown cells and any outputs, including widgets. However, the code is still there in the background and handles any interaction with the widgets. To view this dashboard template rendered in Voila click [here](https://mybinder.org/v2/gh/fsmeraldi/diy-covid19dash/main?urlpath=%2Fvoila%2Frender%2FDashboard.ipynb)."
   ]
  },
  {
   "cell_type": "code",
   "execution_count": 444,
   "metadata": {},
   "outputs": [],
   "source": [
    "from IPython.display import clear_output\n",
    "import ipywidgets as wdg\n",
    "import pandas as pd\n",
    "import numpy as np\n",
    "import matplotlib.pyplot as plt\n",
    "import json\n",
    "#import datetime\n",
    "#from ipywidgets import interact, interactive, fixed, interact_manual, Layout\n",
    "from uk_covid19 import Cov19API\n"
   ]
  },
  {
   "cell_type": "code",
   "execution_count": 445,
   "metadata": {},
   "outputs": [],
   "source": [
    "%matplotlib inline\n",
    "# make figures larger\n",
    "plt.rcParams['figure.dpi'] = 100"
   ]
  },
  {
   "cell_type": "markdown",
   "metadata": {},
   "source": [
    "## Load initial data from disk\n",
    "\n",
    "You should include \"canned\" data in ```.json``` files along with your dashboard. When the dashboard starts, it should load that data (the code below will be hidden when the dashboard is rendered by Voila)."
   ]
  },
  {
   "cell_type": "code",
   "execution_count": 446,
   "metadata": {
    "scrolled": true
   },
   "outputs": [
    {
     "name": "stdout",
     "output_type": "stream",
     "text": [
      "Requirement already satisfied: uk-covid19 in /Users/kristy/opt/anaconda3/lib/python3.9/site-packages (1.2.2)\n",
      "Requirement already satisfied: certifi in /Users/kristy/opt/anaconda3/lib/python3.9/site-packages (from uk-covid19) (2021.10.8)\n",
      "Requirement already satisfied: requests in /Users/kristy/opt/anaconda3/lib/python3.9/site-packages (from uk-covid19) (2.27.1)\n",
      "Requirement already satisfied: urllib3<1.27,>=1.21.1 in /Users/kristy/opt/anaconda3/lib/python3.9/site-packages (from requests->uk-covid19) (1.26.9)\n",
      "Requirement already satisfied: idna<4,>=2.5 in /Users/kristy/opt/anaconda3/lib/python3.9/site-packages (from requests->uk-covid19) (3.3)\n",
      "Requirement already satisfied: charset-normalizer~=2.0.0 in /Users/kristy/opt/anaconda3/lib/python3.9/site-packages (from requests->uk-covid19) (2.0.4)\n",
      "Note: you may need to restart the kernel to use updated packages.\n"
     ]
    }
   ],
   "source": [
    " pip install uk-covid19\n"
   ]
  },
  {
   "cell_type": "code",
   "execution_count": 447,
   "metadata": {},
   "outputs": [],
   "source": [
    "England_filters = [\n",
    "    'areaType=nation',\n",
    "    'areaName=England'\n",
    "]\n",
    "\n",
    "England_structure = {\n",
    "    \"date\": \"date\",\n",
    "    \"cases\": \"newCasesBySpecimenDate\",\n",
    "    \"new_first_episodes\": \"newFirstEpisodesBySpecimenDate\",\n",
    "    \"new_reinfection\": \"newReinfectionsBySpecimenDate\"    \n",
    "}\n",
    "\n",
    "graph = Cov19API(filters = England_filters, structure = England_structure)"
   ]
  },
  {
   "cell_type": "code",
   "execution_count": 448,
   "metadata": {},
   "outputs": [],
   "source": [
    "analysis = graph.get_json()\n",
    "with open(\"graph.json\", \"wt\") as file:\n",
    "    json.dump(analysis, file)"
   ]
  },
  {
   "cell_type": "markdown",
   "metadata": {},
   "source": [
    "## Wrangle the data\n",
    "\n",
    "The dashboard should contain the logic to wrangle the raw data into a ```DataFrame``` (or more than one, as required) that will be used for plotting. The wrangling code should be put into a function and called on the data from the JSON file (we'll need to call it again on any data downloaded from the API).  In this template, we just pretend we are wrangling ```rawdata``` and generate a dataframe with some random data"
   ]
  },
  {
   "cell_type": "code",
   "execution_count": 449,
   "metadata": {},
   "outputs": [],
   "source": [
    "def wrangle_data(rawdata, columns_name):\n",
    "    \"\"\" Parameters: rawdata - data from json file or API call. Returns a dataframe.\n",
    "    Edit to include the code that wrangles the data, creates the dataframe and fills it in. \"\"\"\n",
    "    \n",
    "    with open(rawdata, \"rt\") as INFILE:\n",
    "        input_data = json.load(INFILE)\n",
    "    \n",
    "    global datalist \n",
    "    datalist = input_data['data']\n",
    "    \n",
    "    date_index() \n",
    "    global x_index\n",
    "    x_index = pd.date_range(startdate, enddate) \n",
    "    \n",
    "    global dataframe\n",
    "    dataframe = pd.DataFrame(index = x_index, columns = columns_name)\n",
    "    \n",
    "    for i in datalist: \n",
    "        date = parse_date(i['date'])\n",
    "        for x in columns_name:\n",
    "            if pd.isna(dataframe.loc[date, x]): \n",
    "                value = float(i[x]) if i[x]!=None else 0.0\n",
    "                dataframe.loc[date, x] = value    \n",
    "                \n",
    "    dataframe.fillna(0.0, inplace=True)\n",
    "\n",
    "    return dataframe\n",
    "\n",
    "def parse_date(datestring):\n",
    "    return pd.to_datetime(datestring, format=\"%Y-%m-%d\")\n",
    "\n",
    "def date_index():      \n",
    "    dates = [i['date'] for i in datalist]\n",
    "    dates.sort() \n",
    "    global startdate\n",
    "    global enddate\n",
    "    startdate = parse_date(dates[0])\n",
    "    enddate = parse_date(dates[-1])"
   ]
  },
  {
   "cell_type": "code",
   "execution_count": 450,
   "metadata": {},
   "outputs": [
    {
     "data": {
      "text/html": [
       "<div>\n",
       "<style scoped>\n",
       "    .dataframe tbody tr th:only-of-type {\n",
       "        vertical-align: middle;\n",
       "    }\n",
       "\n",
       "    .dataframe tbody tr th {\n",
       "        vertical-align: top;\n",
       "    }\n",
       "\n",
       "    .dataframe thead th {\n",
       "        text-align: right;\n",
       "    }\n",
       "</style>\n",
       "<table border=\"1\" class=\"dataframe\">\n",
       "  <thead>\n",
       "    <tr style=\"text-align: right;\">\n",
       "      <th></th>\n",
       "      <th>cases</th>\n",
       "      <th>new_first_episodes</th>\n",
       "      <th>new_reinfection</th>\n",
       "    </tr>\n",
       "  </thead>\n",
       "  <tbody>\n",
       "    <tr>\n",
       "      <th>2020-01-30</th>\n",
       "      <td>1.0</td>\n",
       "      <td>1.0</td>\n",
       "      <td>0.0</td>\n",
       "    </tr>\n",
       "    <tr>\n",
       "      <th>2020-01-31</th>\n",
       "      <td>0.0</td>\n",
       "      <td>0.0</td>\n",
       "      <td>0.0</td>\n",
       "    </tr>\n",
       "    <tr>\n",
       "      <th>2020-02-01</th>\n",
       "      <td>0.0</td>\n",
       "      <td>0.0</td>\n",
       "      <td>0.0</td>\n",
       "    </tr>\n",
       "    <tr>\n",
       "      <th>2020-02-02</th>\n",
       "      <td>1.0</td>\n",
       "      <td>1.0</td>\n",
       "      <td>0.0</td>\n",
       "    </tr>\n",
       "    <tr>\n",
       "      <th>2020-02-03</th>\n",
       "      <td>18.0</td>\n",
       "      <td>18.0</td>\n",
       "      <td>0.0</td>\n",
       "    </tr>\n",
       "    <tr>\n",
       "      <th>...</th>\n",
       "      <td>...</td>\n",
       "      <td>...</td>\n",
       "      <td>...</td>\n",
       "    </tr>\n",
       "    <tr>\n",
       "      <th>2022-11-19</th>\n",
       "      <td>2140.0</td>\n",
       "      <td>1424.0</td>\n",
       "      <td>716.0</td>\n",
       "    </tr>\n",
       "    <tr>\n",
       "      <th>2022-11-20</th>\n",
       "      <td>2476.0</td>\n",
       "      <td>1548.0</td>\n",
       "      <td>928.0</td>\n",
       "    </tr>\n",
       "    <tr>\n",
       "      <th>2022-11-21</th>\n",
       "      <td>3285.0</td>\n",
       "      <td>1987.0</td>\n",
       "      <td>1298.0</td>\n",
       "    </tr>\n",
       "    <tr>\n",
       "      <th>2022-11-22</th>\n",
       "      <td>2948.0</td>\n",
       "      <td>1798.0</td>\n",
       "      <td>1150.0</td>\n",
       "    </tr>\n",
       "    <tr>\n",
       "      <th>2022-11-23</th>\n",
       "      <td>1800.0</td>\n",
       "      <td>1115.0</td>\n",
       "      <td>685.0</td>\n",
       "    </tr>\n",
       "  </tbody>\n",
       "</table>\n",
       "<p>1029 rows × 3 columns</p>\n",
       "</div>"
      ],
      "text/plain": [
       "             cases  new_first_episodes  new_reinfection\n",
       "2020-01-30     1.0                 1.0              0.0\n",
       "2020-01-31     0.0                 0.0              0.0\n",
       "2020-02-01     0.0                 0.0              0.0\n",
       "2020-02-02     1.0                 1.0              0.0\n",
       "2020-02-03    18.0                18.0              0.0\n",
       "...            ...                 ...              ...\n",
       "2022-11-19  2140.0              1424.0            716.0\n",
       "2022-11-20  2476.0              1548.0            928.0\n",
       "2022-11-21  3285.0              1987.0           1298.0\n",
       "2022-11-22  2948.0              1798.0           1150.0\n",
       "2022-11-23  1800.0              1115.0            685.0\n",
       "\n",
       "[1029 rows x 3 columns]"
      ]
     },
     "execution_count": 450,
     "metadata": {},
     "output_type": "execute_result"
    }
   ],
   "source": [
    "graph_df = wrangle_data(\"graph.json\", ['cases', 'new_first_episodes', 'new_reinfection']) \n",
    "graph_df"
   ]
  },
  {
   "cell_type": "markdown",
   "metadata": {},
   "source": [
    "## Download current data"
   ]
  },
  {
   "cell_type": "markdown",
   "metadata": {},
   "source": [
    "Give your users an option to refresh the dataset - a \"refresh\" button will do. The button callback should\n",
    "* call the code that accesses the API and download some fresh raw data;\n",
    "* wrangle that data into a dataframe and update the corresponding (global) variable for plotting;\n",
    "* optionally: force a redraw of the graph and give the user some fredback.\n",
    "\n",
    "Once you get it to work, you may want to wrap your API call inside an exception handler, so that the user is informed, the \"canned\" data are not overwritten and nothing crashes if for any reason the server cannot be reached or data are not available.\n",
    "\n",
    "After you refresh the data, graphs will not update until the user interacts with a widget. You can trick ```iPywidgets``` into redrawing the graph by simulating interaction, as in the ```refresh_graph``` function we define in the Graph and Analysis section below.\n",
    "\n",
    "Clicking on the button below just generates some more random data and refreshes the graph. The button should read *Fetch Data*. If you see anything else, take a deep breath :)"
   ]
  },
  {
   "cell_type": "code",
   "execution_count": 451,
   "metadata": {},
   "outputs": [],
   "source": [
    "def access_api():\n",
    "    return {} "
   ]
  },
  {
   "cell_type": "code",
   "execution_count": 452,
   "metadata": {},
   "outputs": [],
   "source": [
    "def api_button_callback(button):\n",
    "    apidata=access_api() \n",
    "    \n",
    "    global dataframe\n",
    "    dataframe = wrangle_data(\"graph.json\", ['cases', 'new_first_episodes', 'new_reinfection'])\n",
    "\n",
    "    refresh_graph()\n",
    "    apibutton.icon = \"check\"\n",
    "    apibutton.disabled = True \n",
    "    "
   ]
  },
  {
   "cell_type": "code",
   "execution_count": 453,
   "metadata": {},
   "outputs": [],
   "source": [
    "apibutton = wdg.Button(\n",
    "    description = 'Refresh',\n",
    "    disabled = False,\n",
    "    button_style = 'info', \n",
    "    icon = 'download'\n",
    ")\n",
    "\n",
    "apibutton.on_click(api_button_callback)\n"
   ]
  },
  {
   "cell_type": "markdown",
   "metadata": {},
   "source": [
    "## Graphs and Analysis"
   ]
  },
  {
   "cell_type": "markdown",
   "metadata": {},
   "source": [
    "Include at least one graph with interactive controls, as well as some instructions for the user and/or comments on what the graph represents and how it should be explored (this example shows two random walks)"
   ]
  },
  {
   "cell_type": "code",
   "execution_count": 454,
   "metadata": {},
   "outputs": [],
   "source": [
    "def refresh_graph(): \n",
    "    current = scale.value\n",
    "    if current == scale.options[0]:\n",
    "        other = scale.options[1]\n",
    "    else:\n",
    "        other = scale.options[0]\n",
    "    scale.value=other \n",
    "    scale.value=current    \n",
    "\n",
    "def plot_graph(gscale, gcols):\n",
    "    if gscale == 'linear':\n",
    "        logscale = False\n",
    "    else:\n",
    "        logscale = True\n",
    "        \n",
    "    ncols = len(gcols)\n",
    "\n",
    "    if ncols > 0:\n",
    "        dataframe[list(gcols)].plot(logy=logscale, ylabel = 'number of', xlabel = 'time')\n",
    "        plt.show()   \n",
    "    else:\n",
    "        print(\"Click to select data for graph\")\n",
    "        print(\"CTRL-Click to select more than one category\")"
   ]
  },
  {
   "cell_type": "code",
   "execution_count": 455,
   "metadata": {},
   "outputs": [],
   "source": [
    "series = wdg.SelectMultiple(\n",
    "    options = ['cases', 'new_first_episodes', 'new_reinfection'],\n",
    "    value = ['cases', 'new_first_episodes', 'new_reinfection'],\n",
    "    rows = 3,\n",
    "    description = 'Number of:',\n",
    "    disabled = False\n",
    ")\n",
    "\n",
    "\n",
    "scale = wdg.RadioButtons(\n",
    "    options = ['linear', 'log'],\n",
    "    value = 'linear',\n",
    "    description = 'Scale:',\n",
    "    disabled = False)\n",
    "\n",
    "control = wdg.HBox([series, scale])\n",
    "\n",
    "    "
   ]
  },
  {
   "cell_type": "markdown",
   "metadata": {},
   "source": [
    "## Graph of Cases, First Episode and New Infection of Covid in England\n",
    "The following graph shows the number of cases, first episode and new infection of covid in England. \n",
    "\n",
    "1. Choose from the selection box for what statistics to show\n",
    "2. Choose the scale for y-axis\n",
    "3. Click the 'Refresh' box to get the latest data (optional) "
   ]
  },
  {
   "cell_type": "code",
   "execution_count": 456,
   "metadata": {},
   "outputs": [
    {
     "data": {
      "application/vnd.jupyter.widget-view+json": {
       "model_id": "a328db0fe37f402a8bd84dfc36b766c8",
       "version_major": 2,
       "version_minor": 0
      },
      "text/plain": [
       "HBox(children=(SelectMultiple(description='Number of:', index=(0, 1, 2), options=('cases', 'new_first_episodes…"
      ]
     },
     "metadata": {},
     "output_type": "display_data"
    },
    {
     "data": {
      "application/vnd.jupyter.widget-view+json": {
       "model_id": "38aa7e2f75a64acbbf06641d50230e44",
       "version_major": 2,
       "version_minor": 0
      },
      "text/plain": [
       "Button(button_style='info', description='Refresh', icon='download', style=ButtonStyle())"
      ]
     },
     "metadata": {},
     "output_type": "display_data"
    },
    {
     "data": {
      "application/vnd.jupyter.widget-view+json": {
       "model_id": "7dde1091be30418b98923efc03ac3e27",
       "version_major": 2,
       "version_minor": 0
      },
      "text/plain": [
       "Output()"
      ]
     },
     "metadata": {},
     "output_type": "display_data"
    },
    {
     "data": {
      "text/html": [
       "<div>\n",
       "<style scoped>\n",
       "    .dataframe tbody tr th:only-of-type {\n",
       "        vertical-align: middle;\n",
       "    }\n",
       "\n",
       "    .dataframe tbody tr th {\n",
       "        vertical-align: top;\n",
       "    }\n",
       "\n",
       "    .dataframe thead th {\n",
       "        text-align: right;\n",
       "    }\n",
       "</style>\n",
       "<table border=\"1\" class=\"dataframe\">\n",
       "  <thead>\n",
       "    <tr style=\"text-align: right;\">\n",
       "      <th></th>\n",
       "      <th>cases</th>\n",
       "      <th>new_first_episodes</th>\n",
       "      <th>new_reinfection</th>\n",
       "    </tr>\n",
       "  </thead>\n",
       "  <tbody>\n",
       "    <tr>\n",
       "      <th>2020-01-30</th>\n",
       "      <td>1.0</td>\n",
       "      <td>1.0</td>\n",
       "      <td>0.0</td>\n",
       "    </tr>\n",
       "    <tr>\n",
       "      <th>2020-01-31</th>\n",
       "      <td>0.0</td>\n",
       "      <td>0.0</td>\n",
       "      <td>0.0</td>\n",
       "    </tr>\n",
       "    <tr>\n",
       "      <th>2020-02-01</th>\n",
       "      <td>0.0</td>\n",
       "      <td>0.0</td>\n",
       "      <td>0.0</td>\n",
       "    </tr>\n",
       "    <tr>\n",
       "      <th>2020-02-02</th>\n",
       "      <td>1.0</td>\n",
       "      <td>1.0</td>\n",
       "      <td>0.0</td>\n",
       "    </tr>\n",
       "    <tr>\n",
       "      <th>2020-02-03</th>\n",
       "      <td>18.0</td>\n",
       "      <td>18.0</td>\n",
       "      <td>0.0</td>\n",
       "    </tr>\n",
       "    <tr>\n",
       "      <th>...</th>\n",
       "      <td>...</td>\n",
       "      <td>...</td>\n",
       "      <td>...</td>\n",
       "    </tr>\n",
       "    <tr>\n",
       "      <th>2022-11-19</th>\n",
       "      <td>2140.0</td>\n",
       "      <td>1424.0</td>\n",
       "      <td>716.0</td>\n",
       "    </tr>\n",
       "    <tr>\n",
       "      <th>2022-11-20</th>\n",
       "      <td>2476.0</td>\n",
       "      <td>1548.0</td>\n",
       "      <td>928.0</td>\n",
       "    </tr>\n",
       "    <tr>\n",
       "      <th>2022-11-21</th>\n",
       "      <td>3285.0</td>\n",
       "      <td>1987.0</td>\n",
       "      <td>1298.0</td>\n",
       "    </tr>\n",
       "    <tr>\n",
       "      <th>2022-11-22</th>\n",
       "      <td>2948.0</td>\n",
       "      <td>1798.0</td>\n",
       "      <td>1150.0</td>\n",
       "    </tr>\n",
       "    <tr>\n",
       "      <th>2022-11-23</th>\n",
       "      <td>1800.0</td>\n",
       "      <td>1115.0</td>\n",
       "      <td>685.0</td>\n",
       "    </tr>\n",
       "  </tbody>\n",
       "</table>\n",
       "<p>1029 rows × 3 columns</p>\n",
       "</div>"
      ],
      "text/plain": [
       "             cases  new_first_episodes  new_reinfection\n",
       "2020-01-30     1.0                 1.0              0.0\n",
       "2020-01-31     0.0                 0.0              0.0\n",
       "2020-02-01     0.0                 0.0              0.0\n",
       "2020-02-02     1.0                 1.0              0.0\n",
       "2020-02-03    18.0                18.0              0.0\n",
       "...            ...                 ...              ...\n",
       "2022-11-19  2140.0              1424.0            716.0\n",
       "2022-11-20  2476.0              1548.0            928.0\n",
       "2022-11-21  3285.0              1987.0           1298.0\n",
       "2022-11-22  2948.0              1798.0           1150.0\n",
       "2022-11-23  1800.0              1115.0            685.0\n",
       "\n",
       "[1029 rows x 3 columns]"
      ]
     },
     "execution_count": 456,
     "metadata": {},
     "output_type": "execute_result"
    }
   ],
   "source": [
    "graph = wdg.interactive_output(plot_graph, {'gscale':scale, 'gcols': series})\n",
    "display(control, apibutton, graph)\n",
    "dataframe"
   ]
  },
  {
   "cell_type": "markdown",
   "metadata": {},
   "source": [
    "## Deploying the dashboard\n",
    "\n",
    "Once your code is ready and you are satisfied with the appearance of the graphs, replace all the text boxes above with the explanations you would like a dashboard user to see. The next step is deploying the dashboard online - there are several [options](https://voila.readthedocs.io/en/stable/deploy.html) for this, we suggest deploying as a [Binder](https://mybinder.org/). This is basically the same technique that has been used to package this tutorial and to deploy this template dashboard. The instructions may seem a bit involved, but the actual steps are surprisingly easy - we will be going through them together during a live session. You will need an account on [GitHub](https://github.com/) for this - if you don't have one already, now it's the time to create it. "
   ]
  },
  {
   "cell_type": "markdown",
   "metadata": {},
   "source": [
    "**Author and Copyright Notice** Remember if you deploy this dashboard as a Binder it will be publicly accessible. Take credit for your work! Also acknowledge the data source: *Based on UK Government [data](https://coronavirus.data.gov.uk/) published by [Public Health England](https://www.gov.uk/government/organisations/public-health-england).*"
   ]
  }
 ],
 "metadata": {
  "kernelspec": {
   "display_name": "Python 3 (ipykernel)",
   "language": "python",
   "name": "python3"
  },
  "language_info": {
   "codemirror_mode": {
    "name": "ipython",
    "version": 3
   },
   "file_extension": ".py",
   "mimetype": "text/x-python",
   "name": "python",
   "nbconvert_exporter": "python",
   "pygments_lexer": "ipython3",
   "version": "3.9.12"
  }
 },
 "nbformat": 4,
 "nbformat_minor": 4
}
